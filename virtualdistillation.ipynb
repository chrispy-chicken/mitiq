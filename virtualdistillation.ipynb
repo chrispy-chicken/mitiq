{
 "cells": [
  {
   "cell_type": "markdown",
   "metadata": {},
   "source": [
    "### Virtual Distillation\n",
    "\n",
    "This notebook provides an implementation of virtual distillation error mitigation, as described by: https://arxiv.org/pdf/2011.07064\n",
    "\n",
    "Virtual distillation is an error mitigation which can leverage M copies of a state $\\rho$ to surpress the error term. Virtual distillation describes the approximation of the error-free expectation value of an operator $O$ as:\n",
    "\n",
    "$$<O>_{corrected} = \\dfrac{Tr(O\\rho^M)}{Tr(\\rho^M)}$$\n",
    "\n",
    "As described in the paper, we make use of the following equality:\n",
    "$$Tr(O\\rho^M) = Tr(O^{\\textbf{i}}S^{(M)}\\rho^{\\otimes M})$$\n",
    "\n",
    "This equation allows us to not calculate $\\rho^M$, but instead use $M$ copies of $\\rho$.\n",
    "Hence we can implement the pseudocode as seen in algorithm 1 in the paper. Note that this notebook only provides an implementation for $M=2$"
   ]
  },
  {
   "cell_type": "code",
   "execution_count": 1,
   "metadata": {},
   "outputs": [],
   "source": [
    "import cirq\n",
    "import mitiq\n",
    "import numpy as np\n",
    "\n",
    "M = 2"
   ]
  },
  {
   "cell_type": "markdown",
   "metadata": {},
   "source": [
    "## Bell state\n",
    "The following code provides a bell state circuit as our $\\rho$. However any N-qubit circuit works here. The circuits are in cirq package format"
   ]
  },
  {
   "cell_type": "code",
   "execution_count": null,
   "metadata": {},
   "outputs": [],
   "source": [
    "def bell_state():\n",
    "    '''\n",
    "    This function returns a circuit that prepares a Bell state in cirq circuit format.\n",
    "    '''\n",
    "\n",
    "    circuit = cirq.Circuit()\n",
    "    qubits = cirq.LineQubit.range(3)\n",
    "    circuit.append(cirq.H(qubits[0]))\n",
    "    circuit.append(cirq.CNOT(qubits[0], qubits[1]))\n",
    "\n",
    "    return circuit"
   ]
  },
  {
   "cell_type": "markdown",
   "metadata": {},
   "source": [
    "## M copies of $\\rho$\n",
    "If no copies of $\\rho$ are provided, the following function can be used."
   ]
  },
  {
   "cell_type": "code",
   "execution_count": 3,
   "metadata": {},
   "outputs": [],
   "source": [
    "def M_copies_of_rho(rho: cirq.Circuit, M: int=2):\n",
    "    '''\n",
    "    Given a circuit rho that acts on N qubits, this function returns a circuit that copies rho M times in parallel.\n",
    "    This means the resulting circuit has N * M qubits.\n",
    "    '''\n",
    "    \n",
    "    if M <= 1:\n",
    "        print(\"warning: M_copies_of_rho is not needed for M <= 1\")\n",
    "        return rho\n",
    "\n",
    "    N = len(rho.all_qubits())\n",
    "\n",
    "    circuit = cirq.Circuit()\n",
    "    qubits = cirq.LineQubit.range(N*M)\n",
    "\n",
    "    for i in range(M):\n",
    "        circuit += rho.transform_qubits(lambda q: qubits[q.x + N*i])\n",
    "\n",
    "    return circuit"
   ]
  },
  {
   "cell_type": "code",
   "execution_count": 4,
   "metadata": {},
   "outputs": [
    {
     "name": "stdout",
     "output_type": "stream",
     "text": [
      "0: ───H───@───────────────────\n",
      "          │\n",
      "1: ───────X───────────────────\n",
      "\n",
      "2: ───────────H───@───────────\n",
      "                  │\n",
      "3: ───────────────X───────────\n",
      "\n",
      "4: ───────────────────H───@───\n",
      "                          │\n",
      "5: ───────────────────────X───\n"
     ]
    }
   ],
   "source": [
    "# Test the M_copies_of_rho function\n",
    "circuit = bell_state()\n",
    "print(M_copies_of_rho(circuit, 3))"
   ]
  },
  {
   "cell_type": "markdown",
   "metadata": {},
   "source": [
    "## Applying swaps\n",
    "A copy in this context is the specific copy of $\\rho$ out of the M copies in the entire circuit. \\\n",
    "As can be seen in the paper, we need to allow easy access to coupling qubit n of copy 1 with qubit n of copy 2 for any n $\\in$ [1,N] \\\n",
    "This access is done by performing a series of SWAP operations such that this pattern results in the circuit where qubit n of copy 1 is stacked above qubit n of copy 2.\\\n",
    "The SWAPs are returned as a list of tuples which store the indices of the qubits that have to be swapped in order. "
   ]
  },
  {
   "cell_type": "code",
   "execution_count": 5,
   "metadata": {},
   "outputs": [],
   "source": [
    "# This algorithm only works for M = 2\n",
    "def generate_swaps(l: list) -> list[tuple]:\n",
    "\n",
    "    if len(l) % 2 != 0:\n",
    "        raise ValueError(\"The list must have an even number of elements, since M=2\")\n",
    "\n",
    "    N = len(l) // 2\n",
    "\n",
    "    if sorted(l) != list(range(0,2*N)):\n",
    "        raise ValueError(\"The list must contain all the integers from 0 to 2*N-1\")\n",
    "\n",
    "    correct_list = []\n",
    "    for i in range(N):\n",
    "        correct_list.append(i)\n",
    "        correct_list.append(i+N)\n",
    "\n",
    "    swaps = []\n",
    "    for index, value in enumerate(correct_list):\n",
    "        if l[index] != value:\n",
    "            l_index = l.index(value)\n",
    "            l[index], l[l_index] = l[l_index], l[index]\n",
    "            swaps.append((index, l_index))\n",
    "\n",
    "\n",
    "    return swaps\n",
    "\n",
    "# applies swaps to check if the generate swaps algorithm works\n",
    "def apply_swaps(swaps_list: list[tuple], list_to_permute: list[int]) -> list[int]:\n",
    "\n",
    "    permuted_list = list_to_permute.copy()\n",
    "    for swap in swaps_list:\n",
    "        permuted_list[swap[0]], permuted_list[swap[1]] = permuted_list[swap[1]], permuted_list[swap[0]]\n",
    "\n",
    "    return permuted_list"
   ]
  },
  {
   "cell_type": "code",
   "execution_count": 6,
   "metadata": {},
   "outputs": [
    {
     "name": "stdout",
     "output_type": "stream",
     "text": [
      "[(1, 2)]\n",
      "[0, 2, 1, 3]\n",
      "[0, 4, 1, 5, 2, 6, 3, 7]\n"
     ]
    }
   ],
   "source": [
    "# Testing the function\n",
    "# [0,1,2,3,4,5] should map to [0,3,1,4,2,5]\n",
    "# [0,1,2,3,4,5,6,7] should map to [0,4,1,5,2,6,3,7]\n",
    "swaps_1 = generate_swaps([0,1,2,3])\n",
    "swaps_2 = generate_swaps([0,1,2,3,4,5,6,7])\n",
    "\n",
    "print(swaps_1)\n",
    "print(apply_swaps(swaps_1, [0,1,2,3]))\n",
    "print(apply_swaps(swaps_2, [0,1,2,3,4,5,6,7]))"
   ]
  },
  {
   "cell_type": "markdown",
   "metadata": {},
   "source": [
    "## The algorithm\n",
    "With everything prepared, we can apply the algorithm. \\\n",
    "This example uses the bell state as $\\rho$. As operator $O$, the pauli Z is chosen. \\\n",
    "Every operator has a $B_i$ unitary that has to be applied, as can be seen in the paper, we define $B_i$ for the pauli Z operator"
   ]
  },
  {
   "cell_type": "code",
   "execution_count": null,
   "metadata": {},
   "outputs": [],
   "source": [
    "def vd(rho: cirq.Circuit, M: int=2, K: int=100):\n",
    "    \n",
    "    # print(f\"We run {K} reps which means we need M*K = {M*K} copies of rho\")\n",
    "\n",
    "    # let the circuit be 2 copies of bell state\n",
    "    N = len(rho.all_qubits())\n",
    "    rho = M_copies_of_rho(rho, M)\n",
    "\n",
    "    # Bi corresponding to unitary operator O, which in this case is pauli Z\n",
    "    Bi_gate = np.array([\n",
    "            [1, 0, 0, 0],\n",
    "            [0, np.sqrt(2)/2, -np.sqrt(2)/2, 0],\n",
    "            [0, np.sqrt(2)/2, np.sqrt(2)/2, 0],\n",
    "            [0, 0, 0, 1]\n",
    "        ])\n",
    "\n",
    "    Ei = [0 for _ in range(N)]\n",
    "    D = 0\n",
    "        \n",
    "    for _ in range(K):\n",
    "        \n",
    "        circuit = rho.copy()\n",
    "\n",
    "\n",
    "        # 1) apply swaps\n",
    "        swaps = generate_swaps(list(range(2*N)))\n",
    "        for swap in swaps:\n",
    "            circuit.append(cirq.SWAP(cirq.LineQubit(swap[0]), cirq.LineQubit(swap[1])))\n",
    "\n",
    "\n",
    "        # 2) apply Bi^(2)\n",
    "        unitary = Bi_gate\n",
    "        B_gate = cirq.MatrixGate(unitary)\n",
    "        for i in range(0,N+1,2):\n",
    "            circuit.append(B_gate(cirq.LineQubit(i), cirq.LineQubit(i+1)))\n",
    "\n",
    "        \n",
    "        # 3) apply measurements\n",
    "        for i in range(2*N):\n",
    "            circuit.append(cirq.measure(cirq.LineQubit(i), key=f\"{i}\"))\n",
    "        \n",
    "        \n",
    "\n",
    "        # run the circuit\n",
    "        simulator = cirq.Simulator()\n",
    "        result = simulator.run(circuit, repetitions=1)\n",
    "        \n",
    "        # print(circuit)\n",
    "\n",
    "        # post processing measurements\n",
    "        z1 = []\n",
    "        z2 = []\n",
    "        \n",
    "\n",
    "        for i in range(2*N):\n",
    "            if i % 2 == 0:\n",
    "                z1.append(np.squeeze(result.records[str(i)]))\n",
    "            else:\n",
    "                z2.append(np.squeeze(result.records[str(i)]))\n",
    "\n",
    "        # this one is for the pauli Z obvservable\n",
    "        def map_to_eigenvalues(measurement):\n",
    "            if measurement == 0:\n",
    "                return 1\n",
    "            else:\n",
    "                return -1\n",
    "            \n",
    "        z1 = [map_to_eigenvalues(i) for i in z1]\n",
    "        z2 = [map_to_eigenvalues(i) for i in z2]\n",
    "        \n",
    "        # print(z1)\n",
    "        # print(z2)\n",
    "\n",
    "        for i in range(N):\n",
    "            \n",
    "            productE = 1\n",
    "            for j in range(N):\n",
    "                if i != j:\n",
    "                    productE *= ( 1 + z1[j] - z2[j] + z1[j]*z2[j] )\n",
    "\n",
    "            Ei[i] += 1/2**N * (z1[i] + z2[i]) * productE\n",
    "\n",
    "        productD = 1\n",
    "        for j in range(N):\n",
    "            productD *= ( 1 + z1[j] - z2[j] + z1[j]*z2[j] )\n",
    "\n",
    "        D += 1/2**N * productD \n",
    "        \n",
    "    Z_i_corrected = [Ei[i] / D for i in range(N)]\n",
    "    # print('Z_i_corrected: ', Z_i_corrected)\n",
    "\n",
    "    return Z_i_corrected\n"
   ]
  },
  {
   "cell_type": "code",
   "execution_count": 101,
   "metadata": {},
   "outputs": [
    {
     "name": "stdout",
     "output_type": "stream",
     "text": [
      "[-0.0039, -0.0039]\n"
     ]
    }
   ],
   "source": [
    "rho = bell_state()\n",
    "# rho = cirq.Circuit()\n",
    "# qubits = cirq.LineQubit.range(2)\n",
    "# rho.append(cirq.X(qubits[0]))\n",
    "\n",
    "# print(rho)\n",
    "results = vd(rho, M, 10000)\n",
    "print(results)"
   ]
  },
  {
   "cell_type": "markdown",
   "metadata": {},
   "source": [
    "### Noise simulation\n",
    "Here we run the circuit with simulated depolarizing noise\n",
    "\n",
    "### TODO THIS SECTION IS NOT FINISHED AT ALL"
   ]
  },
  {
   "cell_type": "code",
   "execution_count": 103,
   "metadata": {},
   "outputs": [
    {
     "name": "stdout",
     "output_type": "stream",
     "text": [
      "warning: M_copies_of_rho is not needed for M <= 1\n",
      "warning: M_copies_of_rho is not needed for M <= 1\n",
      "True value:  [1.0, 1.0]\n",
      "Noisy value:  [0.96875, 0.96484375]\n",
      "VD value:  [0.058333333333333334, 0.075, 0.03333333333333333, 0.011111111111111112]\n"
     ]
    }
   ],
   "source": [
    "rho = bell_state()\n",
    "rho_2 = M_copies_of_rho(rho, 2)\n",
    "noisy_rho = rho.with_noise(cirq.depolarize(0.01))\n",
    "noisy_rho_2 = rho_2.with_noise(cirq.depolarize(0.01))\n",
    "\n",
    "\n",
    "true_value = vd(rho, 1, 1000)     # Ideal quantum computer\n",
    "noisy_value = vd(noisy_rho, 1, 1000)      # Noisy quantum computer\n",
    "vd_value = vd(noisy_rho_2, 2, 1000)      # Noisy quantum computer + Virtual distillation\n",
    "\n",
    "# TODO\n",
    "# This cant be right\n",
    "print(\"True value: \", true_value)\n",
    "print(\"Noisy value: \", noisy_value)\n",
    "print(\"VD value: \", vd_value)"
   ]
  },
  {
   "cell_type": "markdown",
   "metadata": {},
   "source": [
    "### Randomized benchmarking circuits\n",
    "As an example, here we run the algorithm with the pauli Z observable on random 2 qubit benchmarking circuits. These circuits are equal in function to identity. Which means all expectation values will be 0. "
   ]
  },
  {
   "cell_type": "code",
   "execution_count": 105,
   "metadata": {},
   "outputs": [
    {
     "name": "stdout",
     "output_type": "stream",
     "text": [
      "\n",
      "Virtual Distillation Results:\n",
      "\n",
      "[1.0, 1.0]\n",
      "\n",
      "\n",
      "\n",
      "\n",
      "Virtual Distillation Results:\n",
      "\n",
      "[1.0, 1.0]\n",
      "\n",
      "\n",
      "\n",
      "\n",
      "Virtual Distillation Results:\n",
      "\n",
      "[1.0, 1.0]\n",
      "\n",
      "\n",
      "\n",
      "\n",
      "Virtual Distillation Results:\n",
      "\n",
      "[1.0, 1.0]\n",
      "\n",
      "\n",
      "\n",
      "\n",
      "Virtual Distillation Results:\n",
      "\n",
      "[1.0, 1.0]\n",
      "\n",
      "\n",
      "\n",
      "\n",
      "Virtual Distillation Results:\n",
      "\n",
      "[1.0, 1.0]\n",
      "\n",
      "\n",
      "\n",
      "\n",
      "Virtual Distillation Results:\n",
      "\n",
      "[1.0, 1.0]\n",
      "\n",
      "\n",
      "\n",
      "\n",
      "Virtual Distillation Results:\n",
      "\n",
      "[1.0, 1.0]\n",
      "\n",
      "\n",
      "\n",
      "\n",
      "Virtual Distillation Results:\n",
      "\n",
      "[1.0, 1.0]\n",
      "\n",
      "\n",
      "\n",
      "\n",
      "Virtual Distillation Results:\n",
      "\n",
      "[1.0, 1.0]\n",
      "\n",
      "\n",
      "\n"
     ]
    }
   ],
   "source": [
    "def random_circuit(num_cliffords):\n",
    "    return mitiq.benchmarks.randomized_benchmarking.generate_rb_circuits(n_qubits=2, num_cliffords=num_cliffords, trials=1, return_type=None, seed=None)\n",
    "\n",
    "list_of_circuits = []\n",
    "for i in range(1,6): \n",
    "    list_of_circuits.append(random_circuit(i)[0])\n",
    "    list_of_circuits.append(random_circuit(i)[0])\n",
    "\n",
    "for circuit in list_of_circuits:\n",
    "    # print(circuit)\n",
    "    print(\"\\nVirtual Distillation Results:\\n\")\n",
    "    print(vd(circuit, M, 100))\n",
    "    print(\"\\n\\n\")\n"
   ]
  },
  {
   "cell_type": "markdown",
   "metadata": {},
   "source": [
    "### Bi for Other observables"
   ]
  },
  {
   "cell_type": "code",
   "execution_count": null,
   "metadata": {},
   "outputs": [
    {
     "name": "stdout",
     "output_type": "stream",
     "text": [
      "False\n"
     ]
    }
   ],
   "source": [
    "# 4 qubit circuit\n",
    "circuit = cirq.Circuit()\n",
    "qubits = cirq.LineQubit.range(4)\n",
    "circuit.append(cirq.SWAP(qubits[0], qubits[2]))\n",
    "circuit.append(cirq.SWAP(qubits[1], qubits[3]))\n",
    "\n",
    "# print the unitary of the circuit\n",
    "S = cirq.unitary(circuit)\n",
    "# print(unitary.real)\n",
    "\n",
    "Z = np.array([\n",
    "    [1, 0],\n",
    "    [0, -1]\n",
    "])\n",
    "\n",
    "I = np.array([\n",
    "    [1, 0],\n",
    "    [0, 1]\n",
    "])\n",
    "\n",
    "Z_k = 1/2 * (np.kron(np.kron(Z, I), np.kron(I, I)) + 1/2 * np.kron(np.kron(I, I), np.kron(Z, I)))\n",
    "\n",
    "print(np.all((Z_k @ S) == (S @ Z_k)))\n"
   ]
  }
 ],
 "metadata": {
  "kernelspec": {
   "display_name": "venv",
   "language": "python",
   "name": "python3"
  },
  "language_info": {
   "codemirror_mode": {
    "name": "ipython",
    "version": 3
   },
   "file_extension": ".py",
   "mimetype": "text/x-python",
   "name": "python",
   "nbconvert_exporter": "python",
   "pygments_lexer": "ipython3",
   "version": "3.12.3"
  }
 },
 "nbformat": 4,
 "nbformat_minor": 2
}
