{
 "cells": [
  {
   "cell_type": "markdown",
   "metadata": {},
   "source": [
    "### Virtual Distillation\n",
    "\n",
    "This notebook provides an implementation of virtual distillation error mitigation, as described by: https://arxiv.org/pdf/2011.07064\n",
    "\n",
    "Virtual distillation is an error mitigation which can leverage M copies of a state $\\rho$ to surpress the error term. Virtual distillation describes the approximation of the error-free expectation value of an operator $O$ as:\n",
    "\n",
    "$$<O>_{corrected} = \\dfrac{Tr(O\\rho^M)}{Tr(\\rho^M)}$$\n",
    "\n",
    "As described in the paper, we make use of the following equality:\n",
    "$$Tr(O\\rho^M) = Tr(O^{\\textbf{i}}S^{(M)}\\rho^{\\otimes M})$$\n",
    "\n",
    "This equation allows us to not calculate $\\rho^M$, but instead use $M$ copies of $\\rho$.\n",
    "Hence we can implement the pseudocode as seen in algorithm 1 in the paper. Note that this notebook only provides an implementation for $M=2$"
   ]
  },
  {
   "cell_type": "code",
   "execution_count": 75,
   "metadata": {},
   "outputs": [],
   "source": [
    "import cirq\n",
    "import mitiq\n",
    "import numpy as np\n",
    "\n",
    "M = 2\n",
    "\n",
    "Z = np.array([[1, 0], [0, -1]])\n",
    "I = np.eye(2)\n",
    "SWAP = np.array([[1, 0, 0, 0], \n",
    "                 [0, 0, 1, 0], \n",
    "                 [0, 1, 0, 0], \n",
    "                 [0, 0, 0, 1]])\n"
   ]
  },
  {
   "cell_type": "markdown",
   "metadata": {},
   "source": [
    "## Bell state\n",
    "The following code provides a bell state circuit as our $\\rho$. However any N-qubit circuit works here. The circuits are in cirq package format"
   ]
  },
  {
   "cell_type": "code",
   "execution_count": 4,
   "metadata": {},
   "outputs": [],
   "source": [
    "def bell_state():\n",
    "    '''\n",
    "    This function returns a circuit that prepares a Bell state in cirq circuit format.\n",
    "    '''\n",
    "\n",
    "    circuit = cirq.Circuit()\n",
    "    qubits = cirq.LineQubit.range(3)\n",
    "    circuit.append(cirq.H(qubits[0]))\n",
    "    circuit.append(cirq.CNOT(qubits[0], qubits[1]))\n",
    "\n",
    "    return circuit"
   ]
  },
  {
   "cell_type": "markdown",
   "metadata": {},
   "source": [
    "## M copies of $\\rho$\n",
    "If no copies of $\\rho$ are provided, the following function can be used."
   ]
  },
  {
   "cell_type": "code",
   "execution_count": 5,
   "metadata": {},
   "outputs": [],
   "source": [
    "def M_copies_of_rho(rho: cirq.Circuit, M: int=2):\n",
    "    '''\n",
    "    Given a circuit rho that acts on N qubits, this function returns a circuit that copies rho M times in parallel.\n",
    "    This means the resulting circuit has N * M qubits.\n",
    "    '''\n",
    "    \n",
    "    # if M <= 1:\n",
    "    #     print(\"warning: M_copies_of_rho is not needed for M <= 1\")\n",
    "    #     return rho\n",
    "\n",
    "    N = len(rho.all_qubits())\n",
    "\n",
    "    circuit = cirq.Circuit()\n",
    "    qubits = cirq.LineQubit.range(N*M)\n",
    "\n",
    "    for i in range(M):\n",
    "        circuit += rho.transform_qubits(lambda q: qubits[q.x + N*i])\n",
    "\n",
    "    return circuit"
   ]
  },
  {
   "cell_type": "code",
   "execution_count": 6,
   "metadata": {},
   "outputs": [
    {
     "name": "stdout",
     "output_type": "stream",
     "text": [
      "0: ───H───@───────────────────\n",
      "          │\n",
      "1: ───────X───────────────────\n",
      "\n",
      "2: ───────────H───@───────────\n",
      "                  │\n",
      "3: ───────────────X───────────\n",
      "\n",
      "4: ───────────────────H───@───\n",
      "                          │\n",
      "5: ───────────────────────X───\n"
     ]
    }
   ],
   "source": [
    "# Test the M_copies_of_rho function\n",
    "circuit = bell_state()\n",
    "print(M_copies_of_rho(circuit, 3))"
   ]
  },
  {
   "cell_type": "markdown",
   "metadata": {},
   "source": [
    "## Applying swaps\n",
    "A copy in this context is the specific copy of $\\rho$ out of the M copies in the entire circuit. \\\n",
    "As can be seen in the paper, we need to allow easy access to coupling qubit n of copy 1 with qubit n of copy 2 for any n $\\in$ [1,N] \\\n",
    "This access is done by performing a series of SWAP operations such that this pattern results in the circuit where qubit n of copy 1 is stacked above qubit n of copy 2.\\\n",
    "The SWAPs are returned as a list of tuples which store the indices of the qubits that have to be swapped in order. "
   ]
  },
  {
   "cell_type": "code",
   "execution_count": 7,
   "metadata": {},
   "outputs": [],
   "source": [
    "# This algorithm only works for M = 2\n",
    "def generate_swaps(l: list) -> list[tuple]:\n",
    "\n",
    "    if len(l) % 2 != 0:\n",
    "        raise ValueError(\"The list must have an even number of elements, since M=2\")\n",
    "\n",
    "    N = len(l) // 2\n",
    "\n",
    "    if sorted(l) != list(range(0,2*N)):\n",
    "        raise ValueError(\"The list must contain all the integers from 0 to 2*N-1\")\n",
    "\n",
    "    correct_list = []\n",
    "    for i in range(N):\n",
    "        correct_list.append(i)\n",
    "        correct_list.append(i+N)\n",
    "\n",
    "    swaps = []\n",
    "    for index, value in enumerate(correct_list):\n",
    "        if l[index] != value:\n",
    "            l_index = l.index(value)\n",
    "            l[index], l[l_index] = l[l_index], l[index]\n",
    "            swaps.append((index, l_index))\n",
    "\n",
    "\n",
    "    return swaps\n",
    "\n",
    "# applies swaps to check if the generate swaps algorithm works\n",
    "def apply_swaps(swaps_list: list[tuple], list_to_permute: list[int]) -> list[int]:\n",
    "\n",
    "    permuted_list = list_to_permute.copy()\n",
    "    for swap in swaps_list:\n",
    "        permuted_list[swap[0]], permuted_list[swap[1]] = permuted_list[swap[1]], permuted_list[swap[0]]\n",
    "\n",
    "    return permuted_list"
   ]
  },
  {
   "cell_type": "code",
   "execution_count": 8,
   "metadata": {},
   "outputs": [
    {
     "name": "stdout",
     "output_type": "stream",
     "text": [
      "[(1, 2)]\n",
      "[0, 2, 1, 3]\n",
      "[0, 4, 1, 5, 2, 6, 3, 7]\n"
     ]
    }
   ],
   "source": [
    "# Testing the function\n",
    "# [0,1,2,3,4,5] should map to [0,3,1,4,2,5]\n",
    "# [0,1,2,3,4,5,6,7] should map to [0,4,1,5,2,6,3,7]\n",
    "swaps_1 = generate_swaps([0,1,2,3])\n",
    "swaps_2 = generate_swaps([0,1,2,3,4,5,6,7])\n",
    "\n",
    "print(swaps_1)\n",
    "print(apply_swaps(swaps_1, [0,1,2,3]))\n",
    "print(apply_swaps(swaps_2, [0,1,2,3,4,5,6,7]))"
   ]
  },
  {
   "cell_type": "markdown",
   "metadata": {},
   "source": [
    "## B_i matrix generation\n",
    "The B matrix as seen in the paper is defined by using the diagonalization of the $S^{(2)}_i$ operator and the observable $O^{(2)}$. The result of this code is not equal to the paper. Note how it says that some elements have freedom of phase. Thats why the B matrices can be different."
   ]
  },
  {
   "cell_type": "code",
   "execution_count": null,
   "metadata": {},
   "outputs": [
    {
     "name": "stdout",
     "output_type": "stream",
     "text": [
      "[[ 1.          0.          0.          0.        ]\n",
      " [ 0.          0.70710678  0.70710678  0.        ]\n",
      " [ 0.          0.70710678 -0.70710678  0.        ]\n",
      " [ 0.          0.          0.          1.        ]]\n"
     ]
    }
   ],
   "source": [
    "def commutator(mat1, mat2):\n",
    "    \n",
    "    comm = mat1 @ mat2 - mat2 @ mat1\n",
    "    return np.allclose(mat1 @ mat2, mat2 @ mat1), comm\n",
    "\n",
    "def dagger(mat):\n",
    "    return np.conjugate(mat).T\n",
    "\n",
    "# working (?) for 1 qubit systems with M = 2\n",
    "# TODO test\n",
    "# equations are taken directly from the paper\n",
    "\n",
    "def generate_B_i(O, S_up2):\n",
    "\n",
    "    O_up2 = 1/2 * (np.kron(O, I) + np.kron(I, O)) # eq (7)\n",
    "\n",
    "    _, B_i = np.linalg.eig(S_up2)\n",
    "\n",
    "    # swap columns of B_i to match the order of the eigenvectors of A\n",
    "    # TODO i dont know why this is needed, and it seems like a random permutation\n",
    "    # but i assume the eq 12 and eq 13 statements are correct \n",
    "    B_i = B_i[:, [2, 0, 1, 3]]\n",
    "\n",
    "    # eq (9)\n",
    "    if not commutator(O_up2, S_up2)[0]:\n",
    "        print(\"Violates equation 9 (commutator)\")\n",
    "        return None\n",
    "\n",
    "    # eq (12)\n",
    "    if not np.allclose(\n",
    "        B_i @ S_up2 @ dagger(B_i),\n",
    "        1/2 * (np.eye(4) + np.kron(O,I) - np.kron(I,O) + np.kron(O, O) )):\n",
    "        \n",
    "        print(\"Violates equation 12\")\n",
    "        return None\n",
    "\n",
    "    # eq (13)\n",
    "    if not np.allclose(\n",
    "        B_i @ O_up2 @ S_up2 @ dagger(B_i), \n",
    "                    O_up2):\n",
    "        print(\"Violates equation 13\")\n",
    "        return None\n",
    "    \n",
    "    return B_i\n",
    "\n",
    "print(generate_B_i(Z, SWAP))"
   ]
  },
  {
   "cell_type": "code",
   "execution_count": 95,
   "metadata": {},
   "outputs": [],
   "source": [
    "### Testing generate_B_i\n",
    "# TODO"
   ]
  },
  {
   "cell_type": "markdown",
   "metadata": {},
   "source": [
    "## The algorithm\n",
    "With everything prepared, we can apply the algorithm. \\\n",
    "This example uses the bell state as $\\rho$. As operator $O$, the pauli Z is chosen. \\\n",
    "Every operator has a $B_i$ unitary that has to be applied, as can be seen in the paper, we define $B_i$ for the pauli Z operator"
   ]
  },
  {
   "cell_type": "code",
   "execution_count": 89,
   "metadata": {},
   "outputs": [],
   "source": [
    "def vd(rho: cirq.Circuit, M: int=2, K: int=100):\n",
    "    \n",
    "    # print(f\"We run {K} reps which means we need M*K = {M*K} copies of rho\")\n",
    "\n",
    "    # let the circuit be 2 copies of bell state\n",
    "    N = len(rho.all_qubits())\n",
    "    rho = M_copies_of_rho(rho, M)\n",
    "\n",
    "    # Bi corresponding to unitary operator O, which in this case is pauli Z\n",
    "    Bi_gate = np.array([\n",
    "            [1, 0, 0, 0],\n",
    "            [0, np.sqrt(2)/2, -np.sqrt(2)/2, 0],\n",
    "            [0, np.sqrt(2)/2, np.sqrt(2)/2, 0],\n",
    "            [0, 0, 0, 1]\n",
    "        ])\n",
    "\n",
    "\n",
    "    Bi_gate = generate_B_i(Z, SWAP)\n",
    "\n",
    "\n",
    "    Ei = [0 for _ in range(N)]\n",
    "    D = 0\n",
    "        \n",
    "    for _ in range(K):\n",
    "        \n",
    "        circuit = rho.copy()\n",
    "\n",
    "\n",
    "        # 1) apply swaps\n",
    "        swaps = generate_swaps(list(range(2*N)))\n",
    "        for swap in swaps:\n",
    "            circuit.append(cirq.SWAP(cirq.LineQubit(swap[0]), cirq.LineQubit(swap[1])))\n",
    "\n",
    "\n",
    "        # 2) apply Bi^(2)\n",
    "        unitary = Bi_gate\n",
    "        B_gate = cirq.MatrixGate(unitary)\n",
    "        for i in range(0,N+1,2):\n",
    "            circuit.append(B_gate(cirq.LineQubit(i), cirq.LineQubit(i+1)))\n",
    "\n",
    "        \n",
    "        # 3) apply measurements\n",
    "        for i in range(M*N):\n",
    "            circuit.append(cirq.measure(cirq.LineQubit(i), key=f\"{i}\"))\n",
    "        \n",
    "        \n",
    "    \n",
    "\n",
    "        # run the circuit\n",
    "        simulator = cirq.Simulator()\n",
    "        result = simulator.run(circuit, repetitions=1)\n",
    "        \n",
    "        # print(circuit)\n",
    "\n",
    "        # post processing measurements\n",
    "        z1 = []\n",
    "        z2 = []\n",
    "        \n",
    "\n",
    "        for i in range(2*N):\n",
    "            if i % 2 == 0:\n",
    "                z1.append(np.squeeze(result.records[str(i)]))\n",
    "            else:\n",
    "                z2.append(np.squeeze(result.records[str(i)]))\n",
    "\n",
    "        # this one is for the pauli Z obvservable\n",
    "        def map_to_eigenvalues(measurement):\n",
    "            if measurement == 0:\n",
    "                return 1\n",
    "            else:\n",
    "                return -1\n",
    "            \n",
    "        z1 = [map_to_eigenvalues(i) for i in z1]\n",
    "        z2 = [map_to_eigenvalues(i) for i in z2]\n",
    "        \n",
    "        # print(z1)\n",
    "        # print(z2)\n",
    "\n",
    "        for i in range(N):\n",
    "            \n",
    "            productE = 1\n",
    "            for j in range(N):\n",
    "                if i != j:\n",
    "                    productE *= ( 1 + z1[j] - z2[j] + z1[j]*z2[j] )\n",
    "\n",
    "            Ei[i] += 1/2**N * (z1[i] + z2[i]) * productE\n",
    "\n",
    "        productD = 1\n",
    "        for j in range(N):\n",
    "            productD *= ( 1 + z1[j] - z2[j] + z1[j]*z2[j] )\n",
    "\n",
    "        D += 1/2**N * productD \n",
    "        \n",
    "    Z_i_corrected = [Ei[i] / D for i in range(N)]\n",
    "    # print('Z_i_corrected: ', Z_i_corrected)\n",
    "\n",
    "    return Z_i_corrected\n"
   ]
  },
  {
   "cell_type": "code",
   "execution_count": 90,
   "metadata": {},
   "outputs": [
    {
     "name": "stdout",
     "output_type": "stream",
     "text": [
      "[0.0031, 0.0031]\n"
     ]
    }
   ],
   "source": [
    "rho = bell_state()\n",
    "# rho = cirq.Circuit()\n",
    "# qubits = cirq.LineQubit.range(2)\n",
    "# rho.append(cirq.X(qubits[0]))\n",
    "\n",
    "# print(rho)\n",
    "results = vd(rho, M, 10000)\n",
    "print(results)"
   ]
  },
  {
   "cell_type": "markdown",
   "metadata": {},
   "source": [
    "### Noise simulation\n",
    "Here we run the circuit with simulated depolarizing noise for a one qubit circuit that is the identity, no operations are applied on this one qubit circuit"
   ]
  },
  {
   "cell_type": "code",
   "execution_count": 91,
   "metadata": {},
   "outputs": [],
   "source": [
    "# This function is used to calculate the expectation value of the Z operator on a one qubit circuit\n",
    "def execute(circuit):\n",
    "    \"\"\"Returns Tr[ρ Z] where ρ is the state prepared by the circuit\n",
    "    with depolarizing noise.\"\"\"\n",
    "    \n",
    "    # density matrix\n",
    "    dm = cirq.DensityMatrixSimulator().simulate(circuit).final_density_matrix \n",
    "    \n",
    "    # print(dm)\n",
    "    return dm[0, 0].real - dm[1, 1].real"
   ]
  },
  {
   "cell_type": "code",
   "execution_count": 92,
   "metadata": {},
   "outputs": [
    {
     "name": "stdout",
     "output_type": "stream",
     "text": [
      "True value: 1.0\n",
      "Noisy value: 0.8666667342185974\n",
      "Virtual distillation value: 0.994279176201373\n",
      "Error w/o  virtual distillation: 0.133\n",
      "Error w virtual distillation:    0.006\n"
     ]
    }
   ],
   "source": [
    "# Identity circuit\n",
    "rho = cirq.Circuit()\n",
    "qubits = cirq.LineQubit.range(1)\n",
    "rho.append(cirq.I(qubits[0])) # apply identity\n",
    "\n",
    "noise_level = 0.1\n",
    "noisy_rho = rho.copy().with_noise(cirq.depolarize(p=noise_level))\n",
    "\n",
    "true_value = execute(rho) # Fault tolerant quantum computer\n",
    "noisy_value = execute(noisy_rho) # Noisy quantum computer\n",
    "vd_value = vd(noisy_rho, 2, 1000)[0] # Noisy quantum computer + virtual distillation\n",
    "\n",
    "print(f\"True value: {true_value}\")\n",
    "print(f\"Noisy value: {noisy_value}\")\n",
    "print(f\"Virtual distillation value: {vd_value}\")\n",
    "print(f\"Error w/o  virtual distillation: {abs((true_value - noisy_value) / true_value):.3f}\")\n",
    "print(f\"Error w virtual distillation:    {abs((true_value - vd_value) / true_value):.3f}\")"
   ]
  },
  {
   "cell_type": "markdown",
   "metadata": {},
   "source": [
    "## Randomized benchmarking circuits\n",
    "### 1 qubit circuits\n",
    "As an example, here we run the algorithm with the pauli Z observable on random 1 qubit benchmarking circuits. These circuits are equal in function to identity. Which means all expectation values will be 1. We see that the Virtual Distillation results of noisy circuits are more accurate. \n",
    "\n",
    "I tested here that VD breaks with noise level > 0.8 using the B matrix from the paper \\\n",
    "My B found with the generate_B_i function seems to improve on the noisy circuit until noise level > 3.5"
   ]
  },
  {
   "cell_type": "code",
   "execution_count": 97,
   "metadata": {},
   "outputs": [
    {
     "name": "stdout",
     "output_type": "stream",
     "text": [
      "circuit: 0, noise level: 0.0\n",
      "True value: 1.0\n",
      "Noisy value: 1.0\n",
      "Virtual distillation value: 1.0\n",
      "\n",
      "circuit: 1, noise level: 0.05\n",
      "True value: 1.0\n",
      "Noisy value: 0.20457163453102112\n",
      "Virtual distillation value: 0.40588235294117647\n",
      "\n",
      "circuit: 2, noise level: 0.1\n",
      "True value: 1.0\n",
      "Noisy value: 0.03224411606788635\n",
      "Virtual distillation value: 0.08171206225680934\n",
      "\n",
      "circuit: 3, noise level: 0.15\n",
      "True value: 0.9999999403953552\n",
      "Noisy value: 0.00922343134880066\n",
      "Virtual distillation value: -0.03409090909090909\n",
      "\n",
      "circuit: 4, noise level: 0.2\n",
      "True value: 1.0\n",
      "Noisy value: 0.0014835894107818604\n",
      "Virtual distillation value: -0.04430379746835443\n",
      "\n",
      "circuit: 5, noise level: 0.25\n",
      "True value: 1.0\n",
      "Noisy value: 3.9637088775634766e-05\n",
      "Virtual distillation value: 0.013157894736842105\n",
      "\n",
      "circuit: 6, noise level: 0.3\n",
      "True value: 1.0\n",
      "Noisy value: 1.3202428817749023e-05\n",
      "Virtual distillation value: 0.07383966244725738\n",
      "\n",
      "circuit: 7, noise level: 0.35000000000000003\n",
      "True value: 1.0\n",
      "Noisy value: 1.8775463104248047e-06\n",
      "Virtual distillation value: 0.02032520325203252\n",
      "\n",
      "circuit: 8, noise level: 0.4\n",
      "True value: 1.0\n",
      "Noisy value: 2.9802322387695312e-08\n",
      "Virtual distillation value: -0.021653543307086614\n",
      "\n",
      "circuit: 9, noise level: 0.44999999999999996\n",
      "True value: 1.0\n",
      "Noisy value: 0.0\n",
      "Virtual distillation value: 0.0\n",
      "\n"
     ]
    }
   ],
   "source": [
    "# returns a random benchmarking qubit circuit equal to identity\n",
    "def random_circuit(n_qubits: int, num_cliffords: int) -> list:\n",
    "    return mitiq.benchmarks.randomized_benchmarking.generate_rb_circuits(n_qubits=n_qubits, num_cliffords=num_cliffords, trials=1, return_type=None, seed=None)\n",
    "\n",
    "for i in range(10):\n",
    "    rho = random_circuit(1, 10)[0]\n",
    "    \n",
    "    noise_level = 0.01 * i * 5\n",
    "    noisy_rho = rho.copy().with_noise(cirq.depolarize(p=noise_level))\n",
    "\n",
    "    true_value = execute(rho) # Fault tolerant quantum computer\n",
    "    noisy_value = execute(noisy_rho) # Noisy quantum computer\n",
    "    vd_value = vd(noisy_rho, 2, 1000)[0] # Noisy quantum computer + virtual distillation\n",
    "\n",
    "    print(f\"circuit: {i}, noise level: {noise_level}\")\n",
    "    print(f\"True value: {true_value}\")\n",
    "    print(f\"Noisy value: {noisy_value}\")\n",
    "    print(f\"Virtual distillation value: {vd_value}\")\n",
    "    print()\n"
   ]
  },
  {
   "cell_type": "markdown",
   "metadata": {},
   "source": [
    "### 2 qubit circuits\n",
    "here we see VD is not more accurate when noise level > 0.6 using the B from the paper \\\n",
    "Using the B from generate_B_i, when the noise level > 0.4 sometimes it does perform better other times it doesnt"
   ]
  },
  {
   "cell_type": "code",
   "execution_count": 94,
   "metadata": {},
   "outputs": [
    {
     "name": "stdout",
     "output_type": "stream",
     "text": [
      "circuit: 0, noise level: 0.0\n",
      "True value: 1.0\n",
      "Noisy value: 1.0\n",
      "Virtual distillation value: 1.0\n",
      "\n",
      "circuit: 1, noise level: 0.01\n",
      "True value: 1.0\n",
      "Noisy value: 0.2647159695625305\n",
      "Virtual distillation value: 0.7484076433121019\n",
      "\n",
      "circuit: 2, noise level: 0.02\n",
      "True value: 1.0\n",
      "Noisy value: 0.044080883264541626\n",
      "Virtual distillation value: 0.2850877192982456\n",
      "\n",
      "circuit: 3, noise level: 0.03\n",
      "True value: 1.0\n",
      "Noisy value: 0.019642934203147888\n",
      "Virtual distillation value: 0.04924242424242424\n",
      "\n",
      "circuit: 4, noise level: 0.04\n",
      "True value: 1.0\n",
      "Noisy value: 0.0011210441589355469\n",
      "Virtual distillation value: 0.07037037037037037\n",
      "\n",
      "circuit: 5, noise level: 0.05\n",
      "True value: 1.0\n",
      "Noisy value: 0.0009548664093017578\n",
      "Virtual distillation value: -0.12222222222222222\n",
      "\n",
      "circuit: 6, noise level: 0.06\n",
      "True value: 1.0\n",
      "Noisy value: 2.4646520614624023e-05\n",
      "Virtual distillation value: -0.09701492537313433\n",
      "\n",
      "circuit: 7, noise level: 0.07\n",
      "True value: 1.0\n",
      "Noisy value: 3.243982791900635e-05\n",
      "Virtual distillation value: 0.1228813559322034\n",
      "\n",
      "circuit: 8, noise level: 0.08\n",
      "True value: 1.0\n",
      "Noisy value: 1.3262033462524414e-06\n",
      "Virtual distillation value: 0.08737864077669903\n",
      "\n",
      "circuit: 9, noise level: 0.09\n",
      "True value: 1.0\n",
      "Noisy value: 2.0712614059448242e-06\n",
      "Virtual distillation value: -0.05319148936170213\n",
      "\n"
     ]
    }
   ],
   "source": [
    "# 2 qubit benchmarking circuits\n",
    "for i in range(10):\n",
    "    rho = random_circuit(2, 10)[0]\n",
    "    \n",
    "    noise_level = 0.01 * i\n",
    "    noisy_rho = rho.copy().with_noise(cirq.depolarize(p=noise_level))\n",
    "\n",
    "    true_value = execute(rho) # Fault tolerant quantum computer\n",
    "    noisy_value = execute(noisy_rho) # Noisy quantum computer\n",
    "    vd_value = vd(noisy_rho, 2, 1000)[0] # Noisy quantum computer + virtual distillation\n",
    "\n",
    "    print(f\"circuit: {i}, noise level: {noise_level}\")\n",
    "    print(f\"True value: {true_value}\")\n",
    "    print(f\"Noisy value: {noisy_value}\")\n",
    "    print(f\"Virtual distillation value: {vd_value}\")\n",
    "    print()"
   ]
  }
 ],
 "metadata": {
  "kernelspec": {
   "display_name": "venv",
   "language": "python",
   "name": "python3"
  },
  "language_info": {
   "codemirror_mode": {
    "name": "ipython",
    "version": 3
   },
   "file_extension": ".py",
   "mimetype": "text/x-python",
   "name": "python",
   "nbconvert_exporter": "python",
   "pygments_lexer": "ipython3",
   "version": "3.12.3"
  }
 },
 "nbformat": 4,
 "nbformat_minor": 2
}
